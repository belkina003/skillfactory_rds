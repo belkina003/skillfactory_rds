{
  "nbformat": 4,
  "nbformat_minor": 0,
  "metadata": {
    "kernelspec": {
      "display_name": "Python 3",
      "language": "python",
      "name": "python3"
    },
    "language_info": {
      "codemirror_mode": {
        "name": "ipython",
        "version": 3
      },
      "file_extension": ".py",
      "mimetype": "text/x-python",
      "name": "python",
      "nbconvert_exporter": "python",
      "pygments_lexer": "ipython3",
      "version": "3.7.6"
    },
    "colab": {
      "name": "Scoring.ipynb",
      "provenance": [],
      "collapsed_sections": [
        "_0FXCC6lxTj2",
        "uY7ZjcE4xTkY",
        "du4tugUsxTk8",
        "W5g8LH1QxTlQ",
        "t1PCtj1MxTl2",
        "40DATMuGxTmG",
        "sD8l1Ym5xTmd",
        "nnSarse5xTmp",
        "rnrujFE7xTnB",
        "WKdZ36hfxTnT",
        "f732NmmPxTnd",
        "e276r-KlxTn7",
        "HIcZG7igxToF",
        "jqpSemO_xToN",
        "5gpKRY6FxToY",
        "2y_twQVWxTo1",
        "F-e-mJMaxTpA",
        "KgE2ClSDxTqA",
        "1fiHAxfKxTqM",
        "dF6v3_kmxTq8",
        "sNvZjWufxTrY"
      ],
      "toc_visible": true
    }
  },
  "cells": [
    {
      "cell_type": "markdown",
      "metadata": {
        "id": "LmnXogTlxTiQ",
        "colab_type": "text"
      },
      "source": [
        "# Банковский кредитный скоринг"
      ]
    },
    {
      "cell_type": "markdown",
      "metadata": {
        "id": "1mprqq2UxTiT",
        "colab_type": "text"
      },
      "source": [
        "<p>Скоринг – используемая банками система оценки клиентов, в основе которой заложены статистические методы. Как правило, это компьютерная программа, куда вводятся данные потенциального заемщика. В ответ выдается результат – стоит ли предоставлять ему кредит.</p> \n",
        "<p>Задачи проекта:</p>\n",
        "<p>1.Провести разведовательный анализ данных.</p>\n",
        "<p>2.Обучить модель логистической регрессии, подобрать лучшие параметры.</p>\n",
        "<img src=\"https://upload.wikimedia.org/wikipedia/commons/c/ca/BilleteiNTER_II.jpg\" style=\"width:500px;height:400px;\">\n",
        "\n",
        "<p>Описание данных:</p>\n",
        "<ul>\n",
        "<li>client_id - идентификатор клиента</li>\n",
        "<li>education - уровень образования</li>\n",
        "<li>sex - пол заемщика</li>\n",
        "<li>age - возраст заемщика</li>\n",
        "<li>car - флаг наличия автомобиля</li>\n",
        "<li>car_type - флаг автомобиля иномарки</li>\n",
        "<li>decline_app_cnt - количество отказанных прошлых заявок</li>\n",
        "<li>good_work - флаг наличия “хорошей” работы</li>\n",
        "<li>bki_request_cnt - количество запросов в БКИ</li>\n",
        "<li>home_address - категоризатор домашнего адреса</li>\n",
        "<li>work_address - категоризатор рабочего адреса</li>\n",
        "<li>income - доход заемщика</li>\n",
        "<li>foreign_passport - наличие загранпаспорта</li>\n",
        "<li>sna - связь заемщика с клиентами банка</li>\n",
        "<li>first_time - давность наличия информации о заемщике</li>\n",
        "<li>score_bki - скоринговый балл по данным из БКИ</li>\n",
        "<li>region_rating - рейтинг региона</li>\n",
        "<li>app_date - дата подачи заявки</li>\n",
        "<li>default - флаг дефолта по кредиту</li>\n",
        "</ul>"
      ]
    },
    {
      "cell_type": "markdown",
      "metadata": {
        "id": "D9VOI2NaxTiW",
        "colab_type": "text"
      },
      "source": [
        "## 1. Импорт библиотек "
      ]
    },
    {
      "cell_type": "code",
      "metadata": {
        "id": "J0G-dJkdxTiY",
        "colab_type": "code",
        "colab": {
          "base_uri": "https://localhost:8080/",
          "height": 71
        },
        "outputId": "44240353-32bb-40fc-f364-5c4f14bcec04"
      },
      "source": [
        "import pandas as pd\n",
        "import seaborn as sns\n",
        "import matplotlib.pyplot as plt\n",
        "from sklearn.feature_selection import f_classif, mutual_info_classif\n",
        "from sklearn.preprocessing import LabelEncoder, StandardScaler, MinMaxScaler, MaxAbsScaler\n",
        "from sklearn.preprocessing import OneHotEncoder\n",
        "from sklearn.linear_model import LogisticRegression, SGDClassifier\n",
        "from sklearn.model_selection import train_test_split\n",
        "from sklearn.metrics import roc_auc_score, roc_curve,confusion_matrix\n",
        "from sklearn.svm import SVC\n",
        "from sklearn.neighbors import KNeighborsClassifier, NearestCentroid\n",
        "from sklearn.tree import DecisionTreeClassifier\n",
        "import numpy as np\n",
        "from sklearn.model_selection import GridSearchCV\n",
        "RANDOM_SEED=42\n",
        "import warnings\n",
        "warnings.filterwarnings('ignore')"
      ],
      "execution_count": 1,
      "outputs": [
        {
          "output_type": "stream",
          "text": [
            "/usr/local/lib/python3.6/dist-packages/statsmodels/tools/_testing.py:19: FutureWarning: pandas.util.testing is deprecated. Use the functions in the public API at pandas.testing instead.\n",
            "  import pandas.util.testing as tm\n"
          ],
          "name": "stderr"
        }
      ]
    },
    {
      "cell_type": "code",
      "metadata": {
        "id": "Ovsw8qBcxTil",
        "colab_type": "code",
        "colab": {}
      },
      "source": [
        "# списки для различных категорий данных\n",
        "num_cols = []\n",
        "bin_cols = []\n",
        "kat_cols = []\n",
        "\n",
        "# дополнительные функции для анализа данных\n",
        "\n",
        "\n",
        "def info_kat(data, col):\n",
        "    kat_cols.append(col)\n",
        "    print('Количество пропущенных значений:', data[col].isnull().sum())\n",
        "    print('Количество уникальных значений:', data[col].nunique())\n",
        "    display(data[col].value_counts())\n",
        "    fig, ax = plt.subplots(1, 2, figsize=(12, 7))\n",
        "    sns.countplot(x=col, data=data, ax=ax[0])\n",
        "    sns.countplot(x=col, data=data[data['train']==1], hue='default', ax=ax[1])\n",
        "\n",
        "\n",
        "def bin_kat(data, col):\n",
        "    bin_cols.append(col)\n",
        "    print('Количество пропущенных значений:', data[col].isnull().sum())\n",
        "    print('Количество уникальных значений:', data[col].nunique())\n",
        "    display(data[col].value_counts())\n",
        "    fig, ax = plt.subplots(1, 2, figsize=(12, 7))\n",
        "    sns.countplot(x=col, data=data, ax=ax[0])\n",
        "    sns.countplot(x=col, data=data[data['train']==1], hue='default', ax=ax[1])\n",
        "\n",
        "\n",
        "def num_kat(data, col):\n",
        "    num_cols.append(col)\n",
        "    print('Количество пропущенных значений:', data[col].isnull().sum())\n",
        "    print('\\nРасспределение уникальных значений:')\n",
        "    display(data[col].value_counts().head(10))\n",
        "    print('Основная статистика:')\n",
        "    display(data[col].describe())\n",
        "    fig, ax = plt.subplots(1, 2, figsize=(12, 7))\n",
        "    ax[0].hist(data[col])\n",
        "    sns.boxplot(x='default', y=col, data=data[data['train']==1], ax=ax[1])\n",
        "\n",
        "    \n",
        "# функция для исследония данных на выбросы\n",
        "def vubros(x):\n",
        "    median = pd.DataFrame(x).median()[0]\n",
        "    IQR = pd.DataFrame(x).quantile(0.75)[0] - pd.DataFrame(x).quantile(0.25)[0]\n",
        "    perc25 = pd.DataFrame(x).quantile(0.25)[0]\n",
        "    perc75 = pd.DataFrame(x).quantile(0.75)[0]\n",
        "    df = pd.Series(x).loc[pd.Series(x).between(\n",
        "        perc25 - 1.5*IQR, perc75 + 1.5*IQR)]\n",
        "    print('25-й перцентиль: {},'.format(perc25), '75-й перцентиль: {},'.format(perc75),\n",
        "          \"IQR: {}, \".format(IQR), \"Границы выбросов: [{f}, {l}].\".format(f=perc25 - 1.5*IQR, l=perc75 + 1.5*IQR))\n",
        "    plt.hist(df, bins=10, range=(0, (perc75 + 1.5*IQR)*1.2), label='IQR')\n",
        "    plt.legend()\n",
        "\n",
        "\n",
        "# функция, возвращающая границы для удаления выбросов\n",
        "def interval_vubros(x):\n",
        "    median = pd.DataFrame(x).median()[0]\n",
        "    IQR = pd.DataFrame(x).quantile(0.75)[0] - pd.DataFrame(x).quantile(0.25)[0]\n",
        "    perc25 = pd.DataFrame(x).quantile(0.25)[0]\n",
        "    perc75 = pd.DataFrame(x).quantile(0.75)[0]\n",
        "    f = perc25 - 1.5*IQR\n",
        "    l = perc75 + 1.5*IQR\n",
        "    return(f, l)"
      ],
      "execution_count": 2,
      "outputs": []
    },
    {
      "cell_type": "markdown",
      "metadata": {
        "id": "KAD2nawZxTiv",
        "colab_type": "text"
      },
      "source": [
        "## 2. Загрузка данных "
      ]
    },
    {
      "cell_type": "code",
      "metadata": {
        "id": "rnkPQD_IxTix",
        "colab_type": "code",
        "colab": {}
      },
      "source": [
        "df_train=pd.read_csv('train.csv')\n",
        "df_test=pd.read_csv('test.csv')\n",
        "submission=pd.read_csv('sample_submission.csv')"
      ],
      "execution_count": 3,
      "outputs": []
    },
    {
      "cell_type": "code",
      "metadata": {
        "id": "_JToqTfMxTi7",
        "colab_type": "code",
        "colab": {
          "base_uri": "https://localhost:8080/",
          "height": 51
        },
        "outputId": "f5abb159-663e-41a3-b181-83af862bd40d"
      },
      "source": [
        "print('Тренировочный датасет содержит {} строк и {} столбцов'.format(df_train.shape[0],df_train.shape[1]))\n",
        "print('Тестовый датасет содержит {} строк и {} столбцов'.format(df_test.shape[0],df_test.shape[1]))"
      ],
      "execution_count": 4,
      "outputs": [
        {
          "output_type": "stream",
          "text": [
            "Тренировочный датасет содержит 73799 строк и 19 столбцов\n",
            "Тестовый датасет содержит 36349 строк и 18 столбцов\n"
          ],
          "name": "stdout"
        }
      ]
    },
    {
      "cell_type": "code",
      "metadata": {
        "id": "OcgaKBsKxTjH",
        "colab_type": "code",
        "colab": {
          "base_uri": "https://localhost:8080/",
          "height": 459
        },
        "outputId": "f6c54122-ac62-42f8-e606-fd6b51815778"
      },
      "source": [
        "#рассмотрим общую информацию\n",
        "df_train.info()"
      ],
      "execution_count": 5,
      "outputs": [
        {
          "output_type": "stream",
          "text": [
            "<class 'pandas.core.frame.DataFrame'>\n",
            "RangeIndex: 73799 entries, 0 to 73798\n",
            "Data columns (total 19 columns):\n",
            " #   Column            Non-Null Count  Dtype  \n",
            "---  ------            --------------  -----  \n",
            " 0   client_id         73799 non-null  int64  \n",
            " 1   app_date          73799 non-null  object \n",
            " 2   education         73492 non-null  object \n",
            " 3   sex               73799 non-null  object \n",
            " 4   age               73799 non-null  int64  \n",
            " 5   car               73799 non-null  object \n",
            " 6   car_type          73799 non-null  object \n",
            " 7   decline_app_cnt   73799 non-null  int64  \n",
            " 8   good_work         73799 non-null  int64  \n",
            " 9   score_bki         73799 non-null  float64\n",
            " 10  bki_request_cnt   73799 non-null  int64  \n",
            " 11  region_rating     73799 non-null  int64  \n",
            " 12  home_address      73799 non-null  int64  \n",
            " 13  work_address      73799 non-null  int64  \n",
            " 14  income            73799 non-null  int64  \n",
            " 15  sna               73799 non-null  int64  \n",
            " 16  first_time        73799 non-null  int64  \n",
            " 17  foreign_passport  73799 non-null  object \n",
            " 18  default           73799 non-null  int64  \n",
            "dtypes: float64(1), int64(12), object(6)\n",
            "memory usage: 10.7+ MB\n"
          ],
          "name": "stdout"
        }
      ]
    },
    {
      "cell_type": "code",
      "metadata": {
        "scrolled": false,
        "id": "zKEMKiGFxTjR",
        "colab_type": "code",
        "colab": {
          "base_uri": "https://localhost:8080/",
          "height": 224
        },
        "outputId": "53ba2214-340f-4d62-e317-f53382ae7fba"
      },
      "source": [
        "df_train.head()"
      ],
      "execution_count": 6,
      "outputs": [
        {
          "output_type": "execute_result",
          "data": {
            "text/html": [
              "<div>\n",
              "<style scoped>\n",
              "    .dataframe tbody tr th:only-of-type {\n",
              "        vertical-align: middle;\n",
              "    }\n",
              "\n",
              "    .dataframe tbody tr th {\n",
              "        vertical-align: top;\n",
              "    }\n",
              "\n",
              "    .dataframe thead th {\n",
              "        text-align: right;\n",
              "    }\n",
              "</style>\n",
              "<table border=\"1\" class=\"dataframe\">\n",
              "  <thead>\n",
              "    <tr style=\"text-align: right;\">\n",
              "      <th></th>\n",
              "      <th>client_id</th>\n",
              "      <th>app_date</th>\n",
              "      <th>education</th>\n",
              "      <th>sex</th>\n",
              "      <th>age</th>\n",
              "      <th>car</th>\n",
              "      <th>car_type</th>\n",
              "      <th>decline_app_cnt</th>\n",
              "      <th>good_work</th>\n",
              "      <th>score_bki</th>\n",
              "      <th>bki_request_cnt</th>\n",
              "      <th>region_rating</th>\n",
              "      <th>home_address</th>\n",
              "      <th>work_address</th>\n",
              "      <th>income</th>\n",
              "      <th>sna</th>\n",
              "      <th>first_time</th>\n",
              "      <th>foreign_passport</th>\n",
              "      <th>default</th>\n",
              "    </tr>\n",
              "  </thead>\n",
              "  <tbody>\n",
              "    <tr>\n",
              "      <th>0</th>\n",
              "      <td>25905</td>\n",
              "      <td>01FEB2014</td>\n",
              "      <td>SCH</td>\n",
              "      <td>M</td>\n",
              "      <td>62</td>\n",
              "      <td>Y</td>\n",
              "      <td>Y</td>\n",
              "      <td>0</td>\n",
              "      <td>0</td>\n",
              "      <td>-2.008753</td>\n",
              "      <td>1</td>\n",
              "      <td>50</td>\n",
              "      <td>1</td>\n",
              "      <td>2</td>\n",
              "      <td>18000</td>\n",
              "      <td>4</td>\n",
              "      <td>1</td>\n",
              "      <td>N</td>\n",
              "      <td>0</td>\n",
              "    </tr>\n",
              "    <tr>\n",
              "      <th>1</th>\n",
              "      <td>63161</td>\n",
              "      <td>12MAR2014</td>\n",
              "      <td>SCH</td>\n",
              "      <td>F</td>\n",
              "      <td>59</td>\n",
              "      <td>N</td>\n",
              "      <td>N</td>\n",
              "      <td>0</td>\n",
              "      <td>0</td>\n",
              "      <td>-1.532276</td>\n",
              "      <td>3</td>\n",
              "      <td>50</td>\n",
              "      <td>2</td>\n",
              "      <td>3</td>\n",
              "      <td>19000</td>\n",
              "      <td>4</td>\n",
              "      <td>1</td>\n",
              "      <td>N</td>\n",
              "      <td>0</td>\n",
              "    </tr>\n",
              "    <tr>\n",
              "      <th>2</th>\n",
              "      <td>25887</td>\n",
              "      <td>01FEB2014</td>\n",
              "      <td>SCH</td>\n",
              "      <td>M</td>\n",
              "      <td>25</td>\n",
              "      <td>Y</td>\n",
              "      <td>N</td>\n",
              "      <td>2</td>\n",
              "      <td>0</td>\n",
              "      <td>-1.408142</td>\n",
              "      <td>1</td>\n",
              "      <td>80</td>\n",
              "      <td>1</td>\n",
              "      <td>2</td>\n",
              "      <td>30000</td>\n",
              "      <td>1</td>\n",
              "      <td>4</td>\n",
              "      <td>Y</td>\n",
              "      <td>0</td>\n",
              "    </tr>\n",
              "    <tr>\n",
              "      <th>3</th>\n",
              "      <td>16222</td>\n",
              "      <td>23JAN2014</td>\n",
              "      <td>SCH</td>\n",
              "      <td>F</td>\n",
              "      <td>53</td>\n",
              "      <td>N</td>\n",
              "      <td>N</td>\n",
              "      <td>0</td>\n",
              "      <td>0</td>\n",
              "      <td>-2.057471</td>\n",
              "      <td>2</td>\n",
              "      <td>50</td>\n",
              "      <td>2</td>\n",
              "      <td>3</td>\n",
              "      <td>10000</td>\n",
              "      <td>1</td>\n",
              "      <td>3</td>\n",
              "      <td>N</td>\n",
              "      <td>0</td>\n",
              "    </tr>\n",
              "    <tr>\n",
              "      <th>4</th>\n",
              "      <td>101655</td>\n",
              "      <td>18APR2014</td>\n",
              "      <td>GRD</td>\n",
              "      <td>M</td>\n",
              "      <td>48</td>\n",
              "      <td>N</td>\n",
              "      <td>N</td>\n",
              "      <td>0</td>\n",
              "      <td>1</td>\n",
              "      <td>-1.244723</td>\n",
              "      <td>1</td>\n",
              "      <td>60</td>\n",
              "      <td>2</td>\n",
              "      <td>3</td>\n",
              "      <td>30000</td>\n",
              "      <td>1</td>\n",
              "      <td>4</td>\n",
              "      <td>Y</td>\n",
              "      <td>0</td>\n",
              "    </tr>\n",
              "  </tbody>\n",
              "</table>\n",
              "</div>"
            ],
            "text/plain": [
              "   client_id   app_date education  ... first_time  foreign_passport default\n",
              "0      25905  01FEB2014       SCH  ...          1                 N       0\n",
              "1      63161  12MAR2014       SCH  ...          1                 N       0\n",
              "2      25887  01FEB2014       SCH  ...          4                 Y       0\n",
              "3      16222  23JAN2014       SCH  ...          3                 N       0\n",
              "4     101655  18APR2014       GRD  ...          4                 Y       0\n",
              "\n",
              "[5 rows x 19 columns]"
            ]
          },
          "metadata": {
            "tags": []
          },
          "execution_count": 6
        }
      ]
    },
    {
      "cell_type": "code",
      "metadata": {
        "id": "GZL66nqExTjh",
        "colab_type": "code",
        "colab": {}
      },
      "source": [
        "# Объединим данные, для лучшей предобработки\n",
        "df_train['train'] = 1\n",
        "df_test['train'] = 0\n",
        "df = pd.concat([df_train, df_test]).reset_index()"
      ],
      "execution_count": 7,
      "outputs": []
    },
    {
      "cell_type": "markdown",
      "metadata": {
        "id": "tUGQN1ThxTj0",
        "colab_type": "text"
      },
      "source": [
        "## 3. Разведывательный анализ "
      ]
    },
    {
      "cell_type": "markdown",
      "metadata": {
        "id": "_0FXCC6lxTj2",
        "colab_type": "text"
      },
      "source": [
        "### Education - уровень образования"
      ]
    },
    {
      "cell_type": "code",
      "metadata": {
        "id": "H2spq5pVxTj6",
        "colab_type": "code",
        "colab": {
          "base_uri": "https://localhost:8080/",
          "height": 0
        },
        "outputId": "0ce3c482-fb48-45d3-ecc7-a3dfda7a3ef1"
      },
      "source": [
        "display(info_kat(df,'education'))"
      ],
      "execution_count": 8,
      "outputs": [
        {
          "output_type": "stream",
          "text": [
            "Количество пропущенных значений: 478\n",
            "Количество уникальных значений: 5\n"
          ],
          "name": "stdout"
        },
        {
          "output_type": "display_data",
          "data": {
            "text/plain": [
              "SCH    57998\n",
              "GRD    34768\n",
              "UGR    14748\n",
              "PGR     1865\n",
              "ACD      291\n",
              "Name: education, dtype: int64"
            ]
          },
          "metadata": {
            "tags": []
          }
        },
        {
          "output_type": "display_data",
          "data": {
            "text/plain": [
              "None"
            ]
          },
          "metadata": {
            "tags": []
          }
        },
        {
          "output_type": "display_data",
          "data": {
            "image/png": "[encoded data removed]",
            "text/plain": [
              "<Figure size 864x504 with 2 Axes>"
            ]
          },
          "metadata": {
            "tags": [],
            "needs_background": "light"
          }
        }
      ]
    },
    {
      "cell_type": "code",
      "metadata": {
        "id": "vIzfD5b7xTkH",
        "colab_type": "code",
        "colab": {}
      },
      "source": [
        "# Заполним пропущенные значения новой величиной\n",
        "df['education'].fillna('NOT',inplace=True)\n",
        "df_train['education'].fillna('NOT',axis=0,inplace=True)\n",
        "df_test['education'].fillna('NOT',axis=0,inplace=True)"
      ],
      "execution_count": 9,
      "outputs": []
    },
    {
      "cell_type": "markdown",
      "metadata": {
        "id": "uY7ZjcE4xTkY",
        "colab_type": "text"
      },
      "source": [
        "### sex - пол заемщика"
      ]
    },
    {
      "cell_type": "code",
      "metadata": {
        "id": "7rb13M4gxTka",
        "colab_type": "code",
        "colab": {
          "base_uri": "https://localhost:8080/",
          "height": 0
        },
        "outputId": "5a72f360-7d5e-4fc8-8bb7-919e0b5ab11b"
      },
      "source": [
        "display(bin_kat(df,'sex'))"
      ],
      "execution_count": 10,
      "outputs": [
        {
          "output_type": "stream",
          "text": [
            "Количество пропущенных значений: 0\n",
            "Количество уникальных значений: 2\n"
          ],
          "name": "stdout"
        },
        {
          "output_type": "display_data",
          "data": {
            "text/plain": [
              "F    61836\n",
              "M    48312\n",
              "Name: sex, dtype: int64"
            ]
          },
          "metadata": {
            "tags": []
          }
        },
        {
          "output_type": "display_data",
          "data": {
            "text/plain": [
              "None"
            ]
          },
          "metadata": {
            "tags": []
          }
        },
        {
          "output_type": "display_data",
          "data": {
            "image/png": "[encoded data removed]",
            "text/plain": [
              "<Figure size 864x504 with 2 Axes>"
            ]
          },
          "metadata": {
            "tags": [],
            "needs_background": "light"
          }
        }
      ]
    },
    {
      "cell_type": "markdown",
      "metadata": {
        "id": "DLBfmVSSxTkk",
        "colab_type": "text"
      },
      "source": [
        "Больше заемщиков - женщин. Проверим, кому в процентном соотношении дают больше кредитов, женщинам или мужчинам?"
      ]
    },
    {
      "cell_type": "code",
      "metadata": {
        "id": "0g1BMfIFxTkn",
        "colab_type": "code",
        "colab": {
          "base_uri": "https://localhost:8080/",
          "height": 0
        },
        "outputId": "1148e5f6-94e0-492a-d15d-37f31b04729e"
      },
      "source": [
        "df_train.groupby(['sex', 'default'])['client_id'].agg('count')"
      ],
      "execution_count": 11,
      "outputs": [
        {
          "output_type": "execute_result",
          "data": {
            "text/plain": [
              "sex  default\n",
              "F    0          36523\n",
              "     1           5039\n",
              "M    0          27904\n",
              "     1           4333\n",
              "Name: client_id, dtype: int64"
            ]
          },
          "metadata": {
            "tags": []
          },
          "execution_count": 11
        }
      ]
    },
    {
      "cell_type": "code",
      "metadata": {
        "id": "r8Fp-qqOxTkw",
        "colab_type": "code",
        "colab": {
          "base_uri": "https://localhost:8080/",
          "height": 0
        },
        "outputId": "747d2af5-4d6d-416a-a1ef-b5b40b747388"
      },
      "source": [
        "print('Процент мужчин, получающих положительный ответ по кредиту:',\n",
        "      round(4333/df[df['sex'] == 'M']['index'].count()*100, 2))\n",
        "print('Процент женщин, получающих положительный ответ по кредиту:',\n",
        "      round(5039/df[df['sex'] == 'F']['index'].count()*100,2))"
      ],
      "execution_count": 12,
      "outputs": [
        {
          "output_type": "stream",
          "text": [
            "Процент мужчин, получающих положительный ответ по кредиту: 8.97\n",
            "Процент женщин, получающих положительный ответ по кредиту: 8.15\n"
          ],
          "name": "stdout"
        }
      ]
    },
    {
      "cell_type": "markdown",
      "metadata": {
        "id": "71C9WtFhxTk6",
        "colab_type": "text"
      },
      "source": [
        "Можно сделать вывод, что пол никак не влият на получение кредита."
      ]
    },
    {
      "cell_type": "markdown",
      "metadata": {
        "id": "du4tugUsxTk8",
        "colab_type": "text"
      },
      "source": [
        "### age - возраст заемщика"
      ]
    },
    {
      "cell_type": "code",
      "metadata": {
        "id": "kNesCq7rxTk_",
        "colab_type": "code",
        "colab": {
          "base_uri": "https://localhost:8080/",
          "height": 0
        },
        "outputId": "ddafce49-8579-4e59-f9b6-53f3c905e107"
      },
      "source": [
        "display(num_kat(df,'age'))"
      ],
      "execution_count": 13,
      "outputs": [
        {
          "output_type": "stream",
          "text": [
            "Количество пропущенных значений: 0\n",
            "\n",
            "Расспределение уникальных значений:\n"
          ],
          "name": "stdout"
        },
        {
          "output_type": "display_data",
          "data": {
            "text/plain": [
              "31    4084\n",
              "28    4035\n",
              "30    4035\n",
              "27    3964\n",
              "29    3940\n",
              "26    3780\n",
              "32    3773\n",
              "34    3548\n",
              "33    3499\n",
              "35    3386\n",
              "Name: age, dtype: int64"
            ]
          },
          "metadata": {
            "tags": []
          }
        },
        {
          "output_type": "stream",
          "text": [
            "Основная статистика:\n"
          ],
          "name": "stdout"
        },
        {
          "output_type": "display_data",
          "data": {
            "text/plain": [
              "count    110148.000000\n",
              "mean         39.249410\n",
              "std          11.518063\n",
              "min          21.000000\n",
              "25%          30.000000\n",
              "50%          37.000000\n",
              "75%          48.000000\n",
              "max          72.000000\n",
              "Name: age, dtype: float64"
            ]
          },
          "metadata": {
            "tags": []
          }
        },
        {
          "output_type": "display_data",
          "data": {
            "text/plain": [
              "None"
            ]
          },
          "metadata": {
            "tags": []
          }
        },
        {
          "output_type": "display_data",
          "data": {
            "image/png": "[encoded data removed]",
            "text/plain": [
              "<Figure size 864x504 with 2 Axes>"
            ]
          },
          "metadata": {
            "tags": [],
            "needs_background": "light"
          }
        }
      ]
    },
    {
      "cell_type": "markdown",
      "metadata": {
        "id": "Iqr6YQaaxTlO",
        "colab_type": "text"
      },
      "source": [
        "Средний возраст заемщика 39 лет, выбросов нет, т.к. минимальное значение 21, а максимальное 72, что допустимо.Также видно, что чуть больше кредитов выдают людям по моложе."
      ]
    },
    {
      "cell_type": "markdown",
      "metadata": {
        "id": "W5g8LH1QxTlQ",
        "colab_type": "text"
      },
      "source": [
        "### car - флаг наличия автомобиля"
      ]
    },
    {
      "cell_type": "code",
      "metadata": {
        "id": "kU1wOYVHxTlS",
        "colab_type": "code",
        "colab": {
          "base_uri": "https://localhost:8080/",
          "height": 0
        },
        "outputId": "832ec1c4-5a20-408c-f5bc-695a8c4b1248"
      },
      "source": [
        "display(bin_kat(df,'car'))"
      ],
      "execution_count": 14,
      "outputs": [
        {
          "output_type": "stream",
          "text": [
            "Количество пропущенных значений: 0\n",
            "Количество уникальных значений: 2\n"
          ],
          "name": "stdout"
        },
        {
          "output_type": "display_data",
          "data": {
            "text/plain": [
              "N    74290\n",
              "Y    35858\n",
              "Name: car, dtype: int64"
            ]
          },
          "metadata": {
            "tags": []
          }
        },
        {
          "output_type": "display_data",
          "data": {
            "text/plain": [
              "None"
            ]
          },
          "metadata": {
            "tags": []
          }
        },
        {
          "output_type": "display_data",
          "data": {
            "image/png": "[encoded data removed]",
            "text/plain": [
              "<Figure size 864x504 with 2 Axes>"
            ]
          },
          "metadata": {
            "tags": [],
            "needs_background": "light"
          }
        }
      ]
    },
    {
      "cell_type": "code",
      "metadata": {
        "id": "3-evyy-fxTle",
        "colab_type": "code",
        "colab": {
          "base_uri": "https://localhost:8080/",
          "height": 0
        },
        "outputId": "eb330d69-3cd1-4599-834b-f700a33e0010"
      },
      "source": [
        "print(df.groupby(['car', 'default'])['index'].agg('count'))\n",
        "print('Процент людей, не имеющих автомобиль, получающих положительный ответ по кредиту:',\n",
        "      round(6825/df[df['car'] == 'N']['index'].count()*100, 2))\n",
        "print('Процент людей, имеющих автомобиль, получающих положительный ответ по кредиту:',\n",
        "      round(2547/df[df['car'] == 'Y']['index'].count()*100,2))"
      ],
      "execution_count": 15,
      "outputs": [
        {
          "output_type": "stream",
          "text": [
            "car  default\n",
            "N    0.0        43007\n",
            "     1.0         6825\n",
            "Y    0.0        21420\n",
            "     1.0         2547\n",
            "Name: index, dtype: int64\n",
            "Процент людей, не имеющих автомобиль, получающих положительный ответ по кредиту: 9.19\n",
            "Процент людей, имеющих автомобиль, получающих положительный ответ по кредиту: 7.1\n"
          ],
          "name": "stdout"
        }
      ]
    },
    {
      "cell_type": "markdown",
      "metadata": {
        "id": "4Tk0dMIJxTlv",
        "colab_type": "text"
      },
      "source": [
        "Как видно, наличие автомобиля, не повышает шансы на положительный ответ банка, т.к. процент людей без машин, получают кредиты больше."
      ]
    },
    {
      "cell_type": "markdown",
      "metadata": {
        "id": "t1PCtj1MxTl2",
        "colab_type": "text"
      },
      "source": [
        "### car_type - флаг автомобиля иномарки"
      ]
    },
    {
      "cell_type": "code",
      "metadata": {
        "id": "qWga9ebDxTl6",
        "colab_type": "code",
        "colab": {
          "base_uri": "https://localhost:8080/",
          "height": 0
        },
        "outputId": "5ad51499-7e5f-40c9-8385-0c308059d21a"
      },
      "source": [
        "display(bin_kat(df,'car_type'))"
      ],
      "execution_count": 16,
      "outputs": [
        {
          "output_type": "stream",
          "text": [
            "Количество пропущенных значений: 0\n",
            "Количество уникальных значений: 2\n"
          ],
          "name": "stdout"
        },
        {
          "output_type": "display_data",
          "data": {
            "text/plain": [
              "N    89140\n",
              "Y    21008\n",
              "Name: car_type, dtype: int64"
            ]
          },
          "metadata": {
            "tags": []
          }
        },
        {
          "output_type": "display_data",
          "data": {
            "text/plain": [
              "None"
            ]
          },
          "metadata": {
            "tags": []
          }
        },
        {
          "output_type": "display_data",
          "data": {
            "image/png": "[encoded data removed]",
            "text/plain": [
              "<Figure size 864x504 with 2 Axes>"
            ]
          },
          "metadata": {
            "tags": [],
            "needs_background": "light"
          }
        }
      ]
    },
    {
      "cell_type": "markdown",
      "metadata": {
        "id": "40DATMuGxTmG",
        "colab_type": "text"
      },
      "source": [
        "### decline_app_cnt - количество отказанных прошлых заявок"
      ]
    },
    {
      "cell_type": "code",
      "metadata": {
        "id": "-PFjM6fVxTmI",
        "colab_type": "code",
        "colab": {
          "base_uri": "https://localhost:8080/",
          "height": 0
        },
        "outputId": "b83b62d4-3e9e-4ba6-d66f-320be68bc8a5"
      },
      "source": [
        "display(num_kat(df,'decline_app_cnt'))"
      ],
      "execution_count": 17,
      "outputs": [
        {
          "output_type": "stream",
          "text": [
            "Количество пропущенных значений: 0\n",
            "\n",
            "Расспределение уникальных значений:\n"
          ],
          "name": "stdout"
        },
        {
          "output_type": "display_data",
          "data": {
            "text/plain": [
              "0    91471\n",
              "1    12500\n",
              "2     3622\n",
              "3     1365\n",
              "4      606\n",
              "5      255\n",
              "6      156\n",
              "7       58\n",
              "8       37\n",
              "9       29\n",
              "Name: decline_app_cnt, dtype: int64"
            ]
          },
          "metadata": {
            "tags": []
          }
        },
        {
          "output_type": "stream",
          "text": [
            "Основная статистика:\n"
          ],
          "name": "stdout"
        },
        {
          "output_type": "display_data",
          "data": {
            "text/plain": [
              "count    110148.000000\n",
              "mean          0.273205\n",
              "std           0.799099\n",
              "min           0.000000\n",
              "25%           0.000000\n",
              "50%           0.000000\n",
              "75%           0.000000\n",
              "max          33.000000\n",
              "Name: decline_app_cnt, dtype: float64"
            ]
          },
          "metadata": {
            "tags": []
          }
        },
        {
          "output_type": "display_data",
          "data": {
            "text/plain": [
              "None"
            ]
          },
          "metadata": {
            "tags": []
          }
        },
        {
          "output_type": "display_data",
          "data": {
            "image/png": "[encoded data removed]",
            "text/plain": [
              "<Figure size 864x504 with 2 Axes>"
            ]
          },
          "metadata": {
            "tags": [],
            "needs_background": "light"
          }
        }
      ]
    },
    {
      "cell_type": "markdown",
      "metadata": {
        "id": "zVw6dQfOxTmS",
        "colab_type": "text"
      },
      "source": [
        "Видим, что очень много выбросов, сократим значение отказов до 15"
      ]
    },
    {
      "cell_type": "code",
      "metadata": {
        "id": "iPIUJnULxTmU",
        "colab_type": "code",
        "colab": {}
      },
      "source": [
        "df['decline_app_cnt']=df.decline_app_cnt.apply(lambda x: 15 if x>15 else x)\n",
        "df_train['decline_app_cnt']=df_train.decline_app_cnt.apply(lambda x: 15 if x>15 else x)\n",
        "df_test['decline_app_cnt']=df_test.decline_app_cnt.apply(lambda x: 15 if x>15 else x)"
      ],
      "execution_count": 18,
      "outputs": []
    },
    {
      "cell_type": "markdown",
      "metadata": {
        "id": "sD8l1Ym5xTmd",
        "colab_type": "text"
      },
      "source": [
        "### good_work - флаг наличия “хорошей” работы"
      ]
    },
    {
      "cell_type": "code",
      "metadata": {
        "id": "9LYAKZjUxTmf",
        "colab_type": "code",
        "colab": {
          "base_uri": "https://localhost:8080/",
          "height": 0
        },
        "outputId": "07f479b1-18c7-4f7a-8e1f-0b4a8c1dc655"
      },
      "source": [
        "display(bin_kat(df,'good_work'))"
      ],
      "execution_count": 19,
      "outputs": [
        {
          "output_type": "stream",
          "text": [
            "Количество пропущенных значений: 0\n",
            "Количество уникальных значений: 2\n"
          ],
          "name": "stdout"
        },
        {
          "output_type": "display_data",
          "data": {
            "text/plain": [
              "0    91917\n",
              "1    18231\n",
              "Name: good_work, dtype: int64"
            ]
          },
          "metadata": {
            "tags": []
          }
        },
        {
          "output_type": "display_data",
          "data": {
            "text/plain": [
              "None"
            ]
          },
          "metadata": {
            "tags": []
          }
        },
        {
          "output_type": "display_data",
          "data": {
            "image/png": "[encoded data removed]",
            "text/plain": [
              "<Figure size 864x504 with 2 Axes>"
            ]
          },
          "metadata": {
            "tags": [],
            "needs_background": "light"
          }
        }
      ]
    },
    {
      "cell_type": "markdown",
      "metadata": {
        "id": "L442GmdGxTmn",
        "colab_type": "text"
      },
      "source": [
        "Количество заемщиков не имеющих хорошую работу значительно превышает, при этом не видно, чтобы наличие хорошей работы повышало шансы на получения заема."
      ]
    },
    {
      "cell_type": "markdown",
      "metadata": {
        "id": "nnSarse5xTmp",
        "colab_type": "text"
      },
      "source": [
        "### bki_request_cnt - количество запросов в БКИ"
      ]
    },
    {
      "cell_type": "code",
      "metadata": {
        "id": "zk61loS2xTmq",
        "colab_type": "code",
        "colab": {
          "base_uri": "https://localhost:8080/",
          "height": 0
        },
        "outputId": "843653ad-9ee5-4586-865a-eb8ac5b67e8f"
      },
      "source": [
        "display(num_kat(df,'bki_request_cnt'))"
      ],
      "execution_count": 20,
      "outputs": [
        {
          "output_type": "stream",
          "text": [
            "Количество пропущенных значений: 0\n",
            "\n",
            "Расспределение уникальных значений:\n"
          ],
          "name": "stdout"
        },
        {
          "output_type": "display_data",
          "data": {
            "text/plain": [
              "0    28908\n",
              "1    27295\n",
              "2    20481\n",
              "3    13670\n",
              "4     8406\n",
              "5     4960\n",
              "6     2500\n",
              "7     1292\n",
              "8      735\n",
              "9      459\n",
              "Name: bki_request_cnt, dtype: int64"
            ]
          },
          "metadata": {
            "tags": []
          }
        },
        {
          "output_type": "stream",
          "text": [
            "Основная статистика:\n"
          ],
          "name": "stdout"
        },
        {
          "output_type": "display_data",
          "data": {
            "text/plain": [
              "count    110148.000000\n",
              "mean          2.005002\n",
              "std           2.266926\n",
              "min           0.000000\n",
              "25%           0.000000\n",
              "50%           1.000000\n",
              "75%           3.000000\n",
              "max          53.000000\n",
              "Name: bki_request_cnt, dtype: float64"
            ]
          },
          "metadata": {
            "tags": []
          }
        },
        {
          "output_type": "display_data",
          "data": {
            "text/plain": [
              "None"
            ]
          },
          "metadata": {
            "tags": []
          }
        },
        {
          "output_type": "display_data",
          "data": {
            "image/png": "[encoded data removed]",
            "text/plain": [
              "<Figure size 864x504 with 2 Axes>"
            ]
          },
          "metadata": {
            "tags": [],
            "needs_background": "light"
          }
        }
      ]
    },
    {
      "cell_type": "markdown",
      "metadata": {
        "id": "P3OJjtb9xTm0",
        "colab_type": "text"
      },
      "source": [
        "Переменная имеет много выбросов, для всех значений больше 7."
      ]
    },
    {
      "cell_type": "code",
      "metadata": {
        "id": "A1JHp8g0xTm2",
        "colab_type": "code",
        "colab": {}
      },
      "source": [
        "df['bki_request_cnt']=df.bki_request_cnt.apply(lambda x: 7 if x>7 else x)\n",
        "df_train['bki_request_cnt']=df_train.bki_request_cnt.apply(lambda x: 7 if x>7 else x)\n",
        "df_test['bki_request_cnt']=df_test.bki_request_cnt.apply(lambda x: 7 if x>7 else x)"
      ],
      "execution_count": 21,
      "outputs": []
    },
    {
      "cell_type": "markdown",
      "metadata": {
        "id": "rnrujFE7xTnB",
        "colab_type": "text"
      },
      "source": [
        "### home_address - категоризатор домашнего адреса"
      ]
    },
    {
      "cell_type": "code",
      "metadata": {
        "id": "PuR5diyDxTnD",
        "colab_type": "code",
        "colab": {
          "base_uri": "https://localhost:8080/",
          "height": 0
        },
        "outputId": "4a370402-95ae-457c-ad49-c4282675da9b"
      },
      "source": [
        "display(info_kat(df,'home_address'))"
      ],
      "execution_count": 22,
      "outputs": [
        {
          "output_type": "stream",
          "text": [
            "Количество пропущенных значений: 0\n",
            "Количество уникальных значений: 3\n"
          ],
          "name": "stdout"
        },
        {
          "output_type": "display_data",
          "data": {
            "text/plain": [
              "2    59591\n",
              "1    48688\n",
              "3     1869\n",
              "Name: home_address, dtype: int64"
            ]
          },
          "metadata": {
            "tags": []
          }
        },
        {
          "output_type": "display_data",
          "data": {
            "text/plain": [
              "None"
            ]
          },
          "metadata": {
            "tags": []
          }
        },
        {
          "output_type": "display_data",
          "data": {
            "image/png": "[encoded data removed]",
            "text/plain": [
              "<Figure size 864x504 with 2 Axes>"
            ]
          },
          "metadata": {
            "tags": [],
            "needs_background": "light"
          }
        }
      ]
    },
    {
      "cell_type": "markdown",
      "metadata": {
        "id": "WKdZ36hfxTnT",
        "colab_type": "text"
      },
      "source": [
        "### work_address - категоризатор рабочего адреса"
      ]
    },
    {
      "cell_type": "code",
      "metadata": {
        "id": "UgrCrA62xTnU",
        "colab_type": "code",
        "colab": {
          "base_uri": "https://localhost:8080/",
          "height": 0
        },
        "outputId": "aeba2f07-484a-4cd9-a389-b0998e5257bd"
      },
      "source": [
        "display(info_kat(df,'work_address'))"
      ],
      "execution_count": 23,
      "outputs": [
        {
          "output_type": "stream",
          "text": [
            "Количество пропущенных значений: 0\n",
            "Количество уникальных значений: 3\n"
          ],
          "name": "stdout"
        },
        {
          "output_type": "display_data",
          "data": {
            "text/plain": [
              "3    67113\n",
              "2    30761\n",
              "1    12274\n",
              "Name: work_address, dtype: int64"
            ]
          },
          "metadata": {
            "tags": []
          }
        },
        {
          "output_type": "display_data",
          "data": {
            "text/plain": [
              "None"
            ]
          },
          "metadata": {
            "tags": []
          }
        },
        {
          "output_type": "display_data",
          "data": {
            "image/png": "[encoded data removed]",
            "text/plain": [
              "<Figure size 864x504 with 2 Axes>"
            ]
          },
          "metadata": {
            "tags": [],
            "needs_background": "light"
          }
        }
      ]
    },
    {
      "cell_type": "markdown",
      "metadata": {
        "id": "f732NmmPxTnd",
        "colab_type": "text"
      },
      "source": [
        "### income - доход заемщика"
      ]
    },
    {
      "cell_type": "code",
      "metadata": {
        "id": "otb3dHTFxTne",
        "colab_type": "code",
        "colab": {
          "base_uri": "https://localhost:8080/",
          "height": 0
        },
        "outputId": "9f05a6fb-8518-44d7-f1ca-61ec18126738"
      },
      "source": [
        "display(num_kat(df, 'income'))"
      ],
      "execution_count": 24,
      "outputs": [
        {
          "output_type": "stream",
          "text": [
            "Количество пропущенных значений: 0\n",
            "\n",
            "Расспределение уникальных значений:\n"
          ],
          "name": "stdout"
        },
        {
          "output_type": "display_data",
          "data": {
            "text/plain": [
              "30000    10437\n",
              "25000     9090\n",
              "20000     8174\n",
              "40000     7383\n",
              "50000     6742\n",
              "35000     6319\n",
              "15000     5874\n",
              "60000     3818\n",
              "45000     3670\n",
              "18000     2732\n",
              "Name: income, dtype: int64"
            ]
          },
          "metadata": {
            "tags": []
          }
        },
        {
          "output_type": "stream",
          "text": [
            "Основная статистика:\n"
          ],
          "name": "stdout"
        },
        {
          "output_type": "display_data",
          "data": {
            "text/plain": [
              "count     110148.000000\n",
              "mean       41012.648537\n",
              "std        45399.735051\n",
              "min         1000.000000\n",
              "25%        20000.000000\n",
              "50%        30000.000000\n",
              "75%        48000.000000\n",
              "max      1000000.000000\n",
              "Name: income, dtype: float64"
            ]
          },
          "metadata": {
            "tags": []
          }
        },
        {
          "output_type": "display_data",
          "data": {
            "text/plain": [
              "None"
            ]
          },
          "metadata": {
            "tags": []
          }
        },
        {
          "output_type": "display_data",
          "data": {
            "image/png": "[encoded data removed]",
            "text/plain": [
              "<Figure size 864x504 with 2 Axes>"
            ]
          },
          "metadata": {
            "tags": [],
            "needs_background": "light"
          }
        }
      ]
    },
    {
      "cell_type": "markdown",
      "metadata": {
        "id": "3IfTVEUmxTnm",
        "colab_type": "text"
      },
      "source": [
        "По графикам, нет ярковыраженной зависимости от положительного результата и размера дохода."
      ]
    },
    {
      "cell_type": "code",
      "metadata": {
        "id": "pdGCzqi_xTno",
        "colab_type": "code",
        "colab": {
          "base_uri": "https://localhost:8080/",
          "height": 0
        },
        "outputId": "7d434bce-18bc-4334-aa3a-30c7f141a1fa"
      },
      "source": [
        "vubros(df['income'])"
      ],
      "execution_count": 25,
      "outputs": [
        {
          "output_type": "stream",
          "text": [
            "25-й перцентиль: 20000.0, 75-й перцентиль: 48000.0, IQR: 28000.0,  Границы выбросов: [-22000.0, 90000.0].\n"
          ],
          "name": "stdout"
        },
        {
          "output_type": "display_data",
          "data": {
            "image/png": "[encoded data removed]",
            "text/plain": [
              "<Figure size 432x288 with 1 Axes>"
            ]
          },
          "metadata": {
            "tags": [],
            "needs_background": "light"
          }
        }
      ]
    },
    {
      "cell_type": "markdown",
      "metadata": {
        "id": "e276r-KlxTn7",
        "colab_type": "text"
      },
      "source": [
        "### foreign_passport - наличие загранпаспорта"
      ]
    },
    {
      "cell_type": "code",
      "metadata": {
        "id": "ywcmC5Y5xTn8",
        "colab_type": "code",
        "colab": {
          "base_uri": "https://localhost:8080/",
          "height": 0
        },
        "outputId": "d2ff9587-b26e-41f5-c1f3-c5e96832dd77"
      },
      "source": [
        "display(display(bin_kat(df,'foreign_passport')))"
      ],
      "execution_count": 26,
      "outputs": [
        {
          "output_type": "stream",
          "text": [
            "Количество пропущенных значений: 0\n",
            "Количество уникальных значений: 2\n"
          ],
          "name": "stdout"
        },
        {
          "output_type": "display_data",
          "data": {
            "text/plain": [
              "N    93721\n",
              "Y    16427\n",
              "Name: foreign_passport, dtype: int64"
            ]
          },
          "metadata": {
            "tags": []
          }
        },
        {
          "output_type": "display_data",
          "data": {
            "text/plain": [
              "None"
            ]
          },
          "metadata": {
            "tags": []
          }
        },
        {
          "output_type": "display_data",
          "data": {
            "text/plain": [
              "None"
            ]
          },
          "metadata": {
            "tags": []
          }
        },
        {
          "output_type": "display_data",
          "data": {
            "image/png": "[encoded data removed]",
            "text/plain": [
              "<Figure size 864x504 with 2 Axes>"
            ]
          },
          "metadata": {
            "tags": [],
            "needs_background": "light"
          }
        }
      ]
    },
    {
      "cell_type": "markdown",
      "metadata": {
        "id": "HIcZG7igxToF",
        "colab_type": "text"
      },
      "source": [
        "### sna - связь заемщика с клиентами банка"
      ]
    },
    {
      "cell_type": "code",
      "metadata": {
        "id": "LmtPtdHkxToG",
        "colab_type": "code",
        "colab": {
          "base_uri": "https://localhost:8080/",
          "height": 0
        },
        "outputId": "a7063c24-852b-4098-d133-d4e9839f3444"
      },
      "source": [
        "display(info_kat(df,'sna'))"
      ],
      "execution_count": 27,
      "outputs": [
        {
          "output_type": "stream",
          "text": [
            "Количество пропущенных значений: 0\n",
            "Количество уникальных значений: 4\n"
          ],
          "name": "stdout"
        },
        {
          "output_type": "display_data",
          "data": {
            "text/plain": [
              "1    70681\n",
              "4    17481\n",
              "2    15832\n",
              "3     6154\n",
              "Name: sna, dtype: int64"
            ]
          },
          "metadata": {
            "tags": []
          }
        },
        {
          "output_type": "display_data",
          "data": {
            "text/plain": [
              "None"
            ]
          },
          "metadata": {
            "tags": []
          }
        },
        {
          "output_type": "display_data",
          "data": {
            "image/png": "[encoded data removed]",
            "text/plain": [
              "<Figure size 864x504 with 2 Axes>"
            ]
          },
          "metadata": {
            "tags": [],
            "needs_background": "light"
          }
        }
      ]
    },
    {
      "cell_type": "markdown",
      "metadata": {
        "id": "jqpSemO_xToN",
        "colab_type": "text"
      },
      "source": [
        "### first_time - давность наличия информации о заемщике "
      ]
    },
    {
      "cell_type": "code",
      "metadata": {
        "id": "X8gig9F2xToP",
        "colab_type": "code",
        "colab": {
          "base_uri": "https://localhost:8080/",
          "height": 0
        },
        "outputId": "b19c02a3-7064-4128-a41d-97721ff648d9"
      },
      "source": [
        "display(info_kat(df,'first_time'))"
      ],
      "execution_count": 28,
      "outputs": [
        {
          "output_type": "stream",
          "text": [
            "Количество пропущенных значений: 0\n",
            "Количество уникальных значений: 4\n"
          ],
          "name": "stdout"
        },
        {
          "output_type": "display_data",
          "data": {
            "text/plain": [
              "3    46588\n",
              "4    28017\n",
              "1    18296\n",
              "2    17247\n",
              "Name: first_time, dtype: int64"
            ]
          },
          "metadata": {
            "tags": []
          }
        },
        {
          "output_type": "display_data",
          "data": {
            "text/plain": [
              "None"
            ]
          },
          "metadata": {
            "tags": []
          }
        },
        {
          "output_type": "display_data",
          "data": {
            "image/png": "[encoded data removed]",
            "text/plain": [
              "<Figure size 864x504 with 2 Axes>"
            ]
          },
          "metadata": {
            "tags": [],
            "needs_background": "light"
          }
        }
      ]
    },
    {
      "cell_type": "markdown",
      "metadata": {
        "id": "5gpKRY6FxToY",
        "colab_type": "text"
      },
      "source": [
        "### score_bki - скоринговый балл по данным из БКИ"
      ]
    },
    {
      "cell_type": "code",
      "metadata": {
        "id": "ZQ5GAowTxToZ",
        "colab_type": "code",
        "colab": {
          "base_uri": "https://localhost:8080/",
          "height": 0
        },
        "outputId": "962d0d5c-731c-43f3-9787-6e85ec61e753"
      },
      "source": [
        "display(num_kat(df, 'score_bki'))"
      ],
      "execution_count": 29,
      "outputs": [
        {
          "output_type": "stream",
          "text": [
            "Количество пропущенных значений: 0\n",
            "\n",
            "Расспределение уникальных значений:\n"
          ],
          "name": "stdout"
        },
        {
          "output_type": "display_data",
          "data": {
            "text/plain": [
              "-1.775263    517\n",
              "-2.104211    454\n",
              "-2.225004    424\n",
              "-2.169664    375\n",
              "-2.024100    278\n",
              "-1.920823    270\n",
              "-2.387268    238\n",
              "-1.526422    207\n",
              "-2.447239    207\n",
              "-2.272941    176\n",
              "Name: score_bki, dtype: int64"
            ]
          },
          "metadata": {
            "tags": []
          }
        },
        {
          "output_type": "stream",
          "text": [
            "Основная статистика:\n"
          ],
          "name": "stdout"
        },
        {
          "output_type": "display_data",
          "data": {
            "text/plain": [
              "count    110148.000000\n",
              "mean         -1.904535\n",
              "std           0.499397\n",
              "min          -3.624586\n",
              "25%          -2.260434\n",
              "50%          -1.920823\n",
              "75%          -1.567888\n",
              "max           0.199773\n",
              "Name: score_bki, dtype: float64"
            ]
          },
          "metadata": {
            "tags": []
          }
        },
        {
          "output_type": "display_data",
          "data": {
            "text/plain": [
              "None"
            ]
          },
          "metadata": {
            "tags": []
          }
        },
        {
          "output_type": "display_data",
          "data": {
            "image/png": "[encoded data removed]",
            "text/plain": [
              "<Figure size 864x504 with 2 Axes>"
            ]
          },
          "metadata": {
            "tags": [],
            "needs_background": "light"
          }
        }
      ]
    },
    {
      "cell_type": "markdown",
      "metadata": {
        "id": "2bfz6z2YxToj",
        "colab_type": "text"
      },
      "source": [
        "По графику видно, что величина предположительно распределена по нормальному закону. Заемщики получающие положительный результат, в среднем имеют большую оценку. "
      ]
    },
    {
      "cell_type": "markdown",
      "metadata": {
        "id": "2y_twQVWxTo1",
        "colab_type": "text"
      },
      "source": [
        "### region_rating - рейтинг региона"
      ]
    },
    {
      "cell_type": "code",
      "metadata": {
        "id": "BEAdp4yWxTo3",
        "colab_type": "code",
        "colab": {
          "base_uri": "https://localhost:8080/",
          "height": 0
        },
        "outputId": "04f6f7ca-e76f-4f3e-9cd3-d48b999bfcd4"
      },
      "source": [
        "display(info_kat(df,'region_rating'))"
      ],
      "execution_count": 30,
      "outputs": [
        {
          "output_type": "stream",
          "text": [
            "Количество пропущенных значений: 0\n",
            "Количество уникальных значений: 7\n"
          ],
          "name": "stdout"
        },
        {
          "output_type": "display_data",
          "data": {
            "text/plain": [
              "50    40981\n",
              "60    23999\n",
              "40    17947\n",
              "80    17170\n",
              "70     9304\n",
              "30      434\n",
              "20      313\n",
              "Name: region_rating, dtype: int64"
            ]
          },
          "metadata": {
            "tags": []
          }
        },
        {
          "output_type": "display_data",
          "data": {
            "text/plain": [
              "None"
            ]
          },
          "metadata": {
            "tags": []
          }
        },
        {
          "output_type": "display_data",
          "data": {
            "image/png": "[encoded data removed]",
            "text/plain": [
              "<Figure size 864x504 with 2 Axes>"
            ]
          },
          "metadata": {
            "tags": [],
            "needs_background": "light"
          }
        }
      ]
    },
    {
      "cell_type": "markdown",
      "metadata": {
        "id": "F-e-mJMaxTpA",
        "colab_type": "text"
      },
      "source": [
        "### app_date - дата подачи заявки "
      ]
    },
    {
      "cell_type": "code",
      "metadata": {
        "id": "aRz5WY-sxTpB",
        "colab_type": "code",
        "colab": {
          "base_uri": "https://localhost:8080/",
          "height": 0
        },
        "outputId": "14fb0e45-970d-422b-94e9-d1a66319f82f"
      },
      "source": [
        "df['app_date'].value_counts()"
      ],
      "execution_count": 31,
      "outputs": [
        {
          "output_type": "execute_result",
          "data": {
            "text/plain": [
              "18MAR2014    1491\n",
              "19MAR2014    1363\n",
              "17MAR2014    1350\n",
              "31MAR2014    1317\n",
              "07APR2014    1296\n",
              "             ... \n",
              "20APR2014     359\n",
              "07JAN2014     349\n",
              "03JAN2014     313\n",
              "02JAN2014     204\n",
              "01JAN2014      56\n",
              "Name: app_date, Length: 120, dtype: int64"
            ]
          },
          "metadata": {
            "tags": []
          },
          "execution_count": 31
        }
      ]
    },
    {
      "cell_type": "markdown",
      "metadata": {
        "id": "xh343Hc2xTpJ",
        "colab_type": "text"
      },
      "source": [
        "Все операции проводились в 2014 году, интересно, влиет ли както месяц, на результат скоринга."
      ]
    },
    {
      "cell_type": "code",
      "metadata": {
        "id": "_CGS7KSSxTpM",
        "colab_type": "code",
        "colab": {}
      },
      "source": [
        "df['month']=df['app_date'].apply(lambda x:x[2:-4])\n",
        "df_train['month']=df_train['app_date'].apply(lambda x:x[2:-4])\n",
        "df_test['month']=df_test['app_date'].apply(lambda x:x[2:-4])"
      ],
      "execution_count": 32,
      "outputs": []
    },
    {
      "cell_type": "code",
      "metadata": {
        "id": "gWs1QRg4xTpW",
        "colab_type": "code",
        "colab": {
          "base_uri": "https://localhost:8080/",
          "height": 0
        },
        "outputId": "1e3525dc-3321-4749-e0e4-35b845d4f6fe"
      },
      "source": [
        "df['month'].value_counts()"
      ],
      "execution_count": 33,
      "outputs": [
        {
          "output_type": "execute_result",
          "data": {
            "text/plain": [
              "MAR    31597\n",
              "FEB    27097\n",
              "APR    26266\n",
              "JAN    25188\n",
              "Name: month, dtype: int64"
            ]
          },
          "metadata": {
            "tags": []
          },
          "execution_count": 33
        }
      ]
    },
    {
      "cell_type": "code",
      "metadata": {
        "id": "NN6LS3P4xTpg",
        "colab_type": "code",
        "colab": {
          "base_uri": "https://localhost:8080/",
          "height": 0
        },
        "outputId": "8e8aa9a7-fcf3-45eb-c65f-3fb878176146"
      },
      "source": [
        "display(info_kat(df,'month'))"
      ],
      "execution_count": 34,
      "outputs": [
        {
          "output_type": "stream",
          "text": [
            "Количество пропущенных значений: 0\n",
            "Количество уникальных значений: 4\n"
          ],
          "name": "stdout"
        },
        {
          "output_type": "display_data",
          "data": {
            "text/plain": [
              "MAR    31597\n",
              "FEB    27097\n",
              "APR    26266\n",
              "JAN    25188\n",
              "Name: month, dtype: int64"
            ]
          },
          "metadata": {
            "tags": []
          }
        },
        {
          "output_type": "display_data",
          "data": {
            "text/plain": [
              "None"
            ]
          },
          "metadata": {
            "tags": []
          }
        },
        {
          "output_type": "display_data",
          "data": {
            "image/png": "[encoded data removed]",
            "text/plain": [
              "<Figure size 864x504 with 2 Axes>"
            ]
          },
          "metadata": {
            "tags": [],
            "needs_background": "light"
          }
        }
      ]
    },
    {
      "cell_type": "markdown",
      "metadata": {
        "id": "x42UtPrZxTps",
        "colab_type": "text"
      },
      "source": [
        "Получается, что в январе положительный ответ получали, больше процентов заявок, чем в январе и апреле, хотя количество заемщиков, в эти месяцы превышало. Рассмотрим день подачи заявки."
      ]
    },
    {
      "cell_type": "code",
      "metadata": {
        "id": "d_kyrJowxTpu",
        "colab_type": "code",
        "colab": {}
      },
      "source": [
        "df['day']=df['app_date'].apply(lambda x:x[:2])\n",
        "df_train['day']=df_train['app_date'].apply(lambda x:x[:2])\n",
        "df_test['day']=df_test['app_date'].apply(lambda x:x[:2])"
      ],
      "execution_count": 35,
      "outputs": []
    },
    {
      "cell_type": "code",
      "metadata": {
        "id": "S0WjMbsJxTp3",
        "colab_type": "code",
        "colab": {
          "base_uri": "https://localhost:8080/",
          "height": 0
        },
        "outputId": "c9d8b0c6-8b37-4a84-c583-83ea6495ef6e"
      },
      "source": [
        "display(info_kat(df,'day'))"
      ],
      "execution_count": 36,
      "outputs": [
        {
          "output_type": "stream",
          "text": [
            "Количество пропущенных значений: 0\n",
            "Количество уникальных значений: 31\n"
          ],
          "name": "stdout"
        },
        {
          "output_type": "display_data",
          "data": {
            "text/plain": [
              "17    4454\n",
              "28    4338\n",
              "18    4321\n",
              "21    4230\n",
              "11    4037\n",
              "24    4035\n",
              "14    3985\n",
              "27    3924\n",
              "15    3916\n",
              "10    3836\n",
              "04    3830\n",
              "03    3818\n",
              "20    3807\n",
              "19    3737\n",
              "22    3704\n",
              "07    3642\n",
              "05    3587\n",
              "12    3559\n",
              "25    3533\n",
              "13    3471\n",
              "16    3444\n",
              "06    3412\n",
              "09    3214\n",
              "26    3141\n",
              "01    2937\n",
              "23    2899\n",
              "30    2774\n",
              "08    2747\n",
              "02    2730\n",
              "29    2553\n",
              "31    2533\n",
              "Name: day, dtype: int64"
            ]
          },
          "metadata": {
            "tags": []
          }
        },
        {
          "output_type": "display_data",
          "data": {
            "text/plain": [
              "None"
            ]
          },
          "metadata": {
            "tags": []
          }
        },
        {
          "output_type": "display_data",
          "data": {
            "image/png": "[encoded data removed]",
            "text/plain": [
              "<Figure size 864x504 with 2 Axes>"
            ]
          },
          "metadata": {
            "tags": [],
            "needs_background": "light"
          }
        }
      ]
    },
    {
      "cell_type": "markdown",
      "metadata": {
        "id": "KgE2ClSDxTqA",
        "colab_type": "text"
      },
      "source": [
        "### default - флаг дефолта по кредиту"
      ]
    },
    {
      "cell_type": "code",
      "metadata": {
        "id": "qcRUaP6GxTqD",
        "colab_type": "code",
        "colab": {
          "base_uri": "https://localhost:8080/",
          "height": 0
        },
        "outputId": "05ba8e2a-6f0f-4729-d2a8-f7430be402f4"
      },
      "source": [
        "# Рассмотрим целевой признак\n",
        "sns.countplot(x='default',data=df)"
      ],
      "execution_count": 37,
      "outputs": [
        {
          "output_type": "execute_result",
          "data": {
            "text/plain": [
              "<matplotlib.axes._subplots.AxesSubplot at 0x7f1de0c5ada0>"
            ]
          },
          "metadata": {
            "tags": []
          },
          "execution_count": 37
        },
        {
          "output_type": "display_data",
          "data": {
            "image/png": "[encoded data removed]",
            "text/plain": [
              "<Figure size 432x288 with 1 Axes>"
            ]
          },
          "metadata": {
            "tags": [],
            "needs_background": "light"
          }
        }
      ]
    },
    {
      "cell_type": "markdown",
      "metadata": {
        "id": "vQZt-yMpxTqK",
        "colab_type": "text"
      },
      "source": [
        "Выборка не сбалансированная, количество людей получивших отказ в заеме, значительно превышает, людей, которые получили заем."
      ]
    },
    {
      "cell_type": "markdown",
      "metadata": {
        "id": "QP1Hge5NxTqL",
        "colab_type": "text"
      },
      "source": [
        "## 4. Предобработка данных"
      ]
    },
    {
      "cell_type": "markdown",
      "metadata": {
        "id": "1fiHAxfKxTqM",
        "colab_type": "text"
      },
      "source": [
        "### Числовые признаки"
      ]
    },
    {
      "cell_type": "code",
      "metadata": {
        "id": "Rh_k9qxyxTqP",
        "colab_type": "code",
        "colab": {
          "base_uri": "https://localhost:8080/",
          "height": 0
        },
        "outputId": "9eedf694-1688-4991-9e54-1fad87e00b7b"
      },
      "source": [
        "for i in num_cols:\n",
        "    plt.figure()\n",
        "    sns.boxplot(data=df[i])\n",
        "    plt.title(i)\n",
        "    plt.show()"
      ],
      "execution_count": 38,
      "outputs": [
        {
          "output_type": "display_data",
          "data": {
            "image/png": "[encoded data removed]",
            "text/plain": [
              "<Figure size 432x288 with 1 Axes>"
            ]
          },
          "metadata": {
            "tags": [],
            "needs_background": "light"
          }
        },
        {
          "output_type": "display_data",
          "data": {
            "image/png": "[encoded data removed]",
            "text/plain": [
              "<Figure size 432x288 with 1 Axes>"
            ]
          },
          "metadata": {
            "tags": [],
            "needs_background": "light"
          }
        },
        {
          "output_type": "display_data",
          "data": {
            "image/png": "[encoded data removed]",
            "text/plain": [
              "<Figure size 432x288 with 1 Axes>"
            ]
          },
          "metadata": {
            "tags": [],
            "needs_background": "light"
          }
        },
        {
          "output_type": "display_data",
          "data": {
            "image/png": "[encoded data removed]",
            "text/plain": [
              "<Figure size 432x288 with 1 Axes>"
            ]
          },
          "metadata": {
            "tags": [],
            "needs_background": "light"
          }
        },
        {
          "output_type": "display_data",
          "data": {
            "image/png": "[encoded data removed]",
            "text/plain": [
              "<Figure size 432x288 with 1 Axes>"
            ]
          },
          "metadata": {
            "tags": [],
            "needs_background": "light"
          }
        }
      ]
    },
    {
      "cell_type": "code",
      "metadata": {
        "id": "M-lb0z6JxTqW",
        "colab_type": "code",
        "colab": {
          "base_uri": "https://localhost:8080/",
          "height": 0
        },
        "outputId": "82518648-7863-4e94-fbf9-588265e57ba3"
      },
      "source": [
        "# т.к. логистическая регрессия - линейная модель, важно не допустить мультиколлинеарность признаков\n",
        "sns.heatmap(df[num_cols].corr().abs(), annot=True, vmin=0, vmax=1)"
      ],
      "execution_count": 39,
      "outputs": [
        {
          "output_type": "execute_result",
          "data": {
            "text/plain": [
              "<matplotlib.axes._subplots.AxesSubplot at 0x7f1de177d7f0>"
            ]
          },
          "metadata": {
            "tags": []
          },
          "execution_count": 39
        },
        {
          "output_type": "display_data",
          "data": {
            "image/png": "[encoded data removed]",
            "text/plain": [
              "<Figure size 432x288 with 2 Axes>"
            ]
          },
          "metadata": {
            "tags": [],
            "needs_background": "light"
          }
        }
      ]
    },
    {
      "cell_type": "markdown",
      "metadata": {
        "id": "NdGgWdy-xTqd",
        "colab_type": "text"
      },
      "source": [
        "Коэффициент корреляции не превышает 0,19, а следовательно - мультиколлинеарность отсутствует."
      ]
    },
    {
      "cell_type": "code",
      "metadata": {
        "scrolled": true,
        "id": "csHJX9CtxTqh",
        "colab_type": "code",
        "colab": {
          "base_uri": "https://localhost:8080/",
          "height": 0
        },
        "outputId": "363ec891-8add-4a22-808f-72b5eb18d2c7"
      },
      "source": [
        "# определим наиболее значимые признаки\n",
        "imp_num = pd.Series(f_classif(df_train[num_cols], df_train['default'])[0], index=num_cols)\n",
        "imp_num.sort_values(inplace=True)\n",
        "imp_num.plot(kind='barh')"
      ],
      "execution_count": 40,
      "outputs": [
        {
          "output_type": "execute_result",
          "data": {
            "text/plain": [
              "<matplotlib.axes._subplots.AxesSubplot at 0x7f1de1b56470>"
            ]
          },
          "metadata": {
            "tags": []
          },
          "execution_count": 40
        },
        {
          "output_type": "display_data",
          "data": {
            "image/png": "[encoded data removed]",
            "text/plain": [
              "<Figure size 432x288 with 1 Axes>"
            ]
          },
          "metadata": {
            "tags": [],
            "needs_background": "light"
          }
        }
      ]
    },
    {
      "cell_type": "code",
      "metadata": {
        "id": "9JyQTZ29xTqo",
        "colab_type": "code",
        "colab": {}
      },
      "source": [
        "# нормализуем данные, т.к. дисперсии числовых признаков сильно отличаются друг от друга\n",
        "scaler= StandardScaler() \n",
        "scaler.fit_transform(df[num_cols])\n",
        "df_train[num_cols]=scaler.transform(df_train[num_cols])\n",
        "df_test[num_cols]=scaler.transform(df_test[num_cols])"
      ],
      "execution_count": 41,
      "outputs": []
    },
    {
      "cell_type": "markdown",
      "metadata": {
        "id": "dF6v3_kmxTq8",
        "colab_type": "text"
      },
      "source": [
        "### Биноминальные признаки "
      ]
    },
    {
      "cell_type": "code",
      "metadata": {
        "id": "5tMHgf_QxTq9",
        "colab_type": "code",
        "colab": {
          "base_uri": "https://localhost:8080/",
          "height": 0
        },
        "outputId": "d9619303-852c-4761-fc81-e827391b4d30"
      },
      "source": [
        "bin_cols"
      ],
      "execution_count": 42,
      "outputs": [
        {
          "output_type": "execute_result",
          "data": {
            "text/plain": [
              "['sex', 'car', 'car_type', 'good_work', 'foreign_passport']"
            ]
          },
          "metadata": {
            "tags": []
          },
          "execution_count": 42
        }
      ]
    },
    {
      "cell_type": "code",
      "metadata": {
        "id": "PJiJEOP_xTrL",
        "colab_type": "code",
        "colab": {}
      },
      "source": [
        "# перекодируем биноминальные данные\n",
        "bin_c=['sex', 'car', 'car_type', 'foreign_passport']\n",
        "label_encoder = LabelEncoder()\n",
        "\n",
        "for column in bin_c:\n",
        "    df[column]=label_encoder.fit_transform(df[column])\n",
        "    df_train[column]=label_encoder.transform(df_train[column])\n",
        "    df_test[column]=label_encoder.transform(df_test[column])"
      ],
      "execution_count": 43,
      "outputs": []
    },
    {
      "cell_type": "code",
      "metadata": {
        "id": "orRZ3dsQxTrR",
        "colab_type": "code",
        "colab": {
          "base_uri": "https://localhost:8080/",
          "height": 0
        },
        "outputId": "33276917-020b-4baf-ca65-85cd33d5727e"
      },
      "source": [
        "df.head()"
      ],
      "execution_count": 44,
      "outputs": [
        {
          "output_type": "execute_result",
          "data": {
            "text/html": [
              "<div>\n",
              "<style scoped>\n",
              "    .dataframe tbody tr th:only-of-type {\n",
              "        vertical-align: middle;\n",
              "    }\n",
              "\n",
              "    .dataframe tbody tr th {\n",
              "        vertical-align: top;\n",
              "    }\n",
              "\n",
              "    .dataframe thead th {\n",
              "        text-align: right;\n",
              "    }\n",
              "</style>\n",
              "<table border=\"1\" class=\"dataframe\">\n",
              "  <thead>\n",
              "    <tr style=\"text-align: right;\">\n",
              "      <th></th>\n",
              "      <th>index</th>\n",
              "      <th>client_id</th>\n",
              "      <th>app_date</th>\n",
              "      <th>education</th>\n",
              "      <th>sex</th>\n",
              "      <th>age</th>\n",
              "      <th>car</th>\n",
              "      <th>car_type</th>\n",
              "      <th>decline_app_cnt</th>\n",
              "      <th>good_work</th>\n",
              "      <th>score_bki</th>\n",
              "      <th>bki_request_cnt</th>\n",
              "      <th>region_rating</th>\n",
              "      <th>home_address</th>\n",
              "      <th>work_address</th>\n",
              "      <th>income</th>\n",
              "      <th>sna</th>\n",
              "      <th>first_time</th>\n",
              "      <th>foreign_passport</th>\n",
              "      <th>default</th>\n",
              "      <th>train</th>\n",
              "      <th>month</th>\n",
              "      <th>day</th>\n",
              "    </tr>\n",
              "  </thead>\n",
              "  <tbody>\n",
              "    <tr>\n",
              "      <th>0</th>\n",
              "      <td>0</td>\n",
              "      <td>25905</td>\n",
              "      <td>01FEB2014</td>\n",
              "      <td>SCH</td>\n",
              "      <td>1</td>\n",
              "      <td>62</td>\n",
              "      <td>1</td>\n",
              "      <td>1</td>\n",
              "      <td>0</td>\n",
              "      <td>0</td>\n",
              "      <td>-2.008753</td>\n",
              "      <td>1</td>\n",
              "      <td>50</td>\n",
              "      <td>1</td>\n",
              "      <td>2</td>\n",
              "      <td>18000</td>\n",
              "      <td>4</td>\n",
              "      <td>1</td>\n",
              "      <td>0</td>\n",
              "      <td>0.0</td>\n",
              "      <td>1</td>\n",
              "      <td>FEB</td>\n",
              "      <td>01</td>\n",
              "    </tr>\n",
              "    <tr>\n",
              "      <th>1</th>\n",
              "      <td>1</td>\n",
              "      <td>63161</td>\n",
              "      <td>12MAR2014</td>\n",
              "      <td>SCH</td>\n",
              "      <td>0</td>\n",
              "      <td>59</td>\n",
              "      <td>0</td>\n",
              "      <td>0</td>\n",
              "      <td>0</td>\n",
              "      <td>0</td>\n",
              "      <td>-1.532276</td>\n",
              "      <td>3</td>\n",
              "      <td>50</td>\n",
              "      <td>2</td>\n",
              "      <td>3</td>\n",
              "      <td>19000</td>\n",
              "      <td>4</td>\n",
              "      <td>1</td>\n",
              "      <td>0</td>\n",
              "      <td>0.0</td>\n",
              "      <td>1</td>\n",
              "      <td>MAR</td>\n",
              "      <td>12</td>\n",
              "    </tr>\n",
              "    <tr>\n",
              "      <th>2</th>\n",
              "      <td>2</td>\n",
              "      <td>25887</td>\n",
              "      <td>01FEB2014</td>\n",
              "      <td>SCH</td>\n",
              "      <td>1</td>\n",
              "      <td>25</td>\n",
              "      <td>1</td>\n",
              "      <td>0</td>\n",
              "      <td>2</td>\n",
              "      <td>0</td>\n",
              "      <td>-1.408142</td>\n",
              "      <td>1</td>\n",
              "      <td>80</td>\n",
              "      <td>1</td>\n",
              "      <td>2</td>\n",
              "      <td>30000</td>\n",
              "      <td>1</td>\n",
              "      <td>4</td>\n",
              "      <td>1</td>\n",
              "      <td>0.0</td>\n",
              "      <td>1</td>\n",
              "      <td>FEB</td>\n",
              "      <td>01</td>\n",
              "    </tr>\n",
              "    <tr>\n",
              "      <th>3</th>\n",
              "      <td>3</td>\n",
              "      <td>16222</td>\n",
              "      <td>23JAN2014</td>\n",
              "      <td>SCH</td>\n",
              "      <td>0</td>\n",
              "      <td>53</td>\n",
              "      <td>0</td>\n",
              "      <td>0</td>\n",
              "      <td>0</td>\n",
              "      <td>0</td>\n",
              "      <td>-2.057471</td>\n",
              "      <td>2</td>\n",
              "      <td>50</td>\n",
              "      <td>2</td>\n",
              "      <td>3</td>\n",
              "      <td>10000</td>\n",
              "      <td>1</td>\n",
              "      <td>3</td>\n",
              "      <td>0</td>\n",
              "      <td>0.0</td>\n",
              "      <td>1</td>\n",
              "      <td>JAN</td>\n",
              "      <td>23</td>\n",
              "    </tr>\n",
              "    <tr>\n",
              "      <th>4</th>\n",
              "      <td>4</td>\n",
              "      <td>101655</td>\n",
              "      <td>18APR2014</td>\n",
              "      <td>GRD</td>\n",
              "      <td>1</td>\n",
              "      <td>48</td>\n",
              "      <td>0</td>\n",
              "      <td>0</td>\n",
              "      <td>0</td>\n",
              "      <td>1</td>\n",
              "      <td>-1.244723</td>\n",
              "      <td>1</td>\n",
              "      <td>60</td>\n",
              "      <td>2</td>\n",
              "      <td>3</td>\n",
              "      <td>30000</td>\n",
              "      <td>1</td>\n",
              "      <td>4</td>\n",
              "      <td>1</td>\n",
              "      <td>0.0</td>\n",
              "      <td>1</td>\n",
              "      <td>APR</td>\n",
              "      <td>18</td>\n",
              "    </tr>\n",
              "  </tbody>\n",
              "</table>\n",
              "</div>"
            ],
            "text/plain": [
              "   index  client_id   app_date education  ...  default  train  month  day\n",
              "0      0      25905  01FEB2014       SCH  ...      0.0      1    FEB   01\n",
              "1      1      63161  12MAR2014       SCH  ...      0.0      1    MAR   12\n",
              "2      2      25887  01FEB2014       SCH  ...      0.0      1    FEB   01\n",
              "3      3      16222  23JAN2014       SCH  ...      0.0      1    JAN   23\n",
              "4      4     101655  18APR2014       GRD  ...      0.0      1    APR   18\n",
              "\n",
              "[5 rows x 23 columns]"
            ]
          },
          "metadata": {
            "tags": []
          },
          "execution_count": 44
        }
      ]
    },
    {
      "cell_type": "markdown",
      "metadata": {
        "id": "sNvZjWufxTrY",
        "colab_type": "text"
      },
      "source": [
        "### Категориальные признаки "
      ]
    },
    {
      "cell_type": "code",
      "metadata": {
        "id": "v5XljvzOxTrg",
        "colab_type": "code",
        "colab": {
          "base_uri": "https://localhost:8080/",
          "height": 0
        },
        "outputId": "b64a52f2-674e-4b58-c646-72e2e268a2f4"
      },
      "source": [
        "# преобразуем категориальные признаки, представленные текстовыми значениями\n",
        "col1=['education','month','day']\n",
        "df_train1=df_train.copy(deep=True)\n",
        "\n",
        "for x in col1:\n",
        "    df[x]=label_encoder.fit_transform(df[x])\n",
        "    df_train1[x]=label_encoder.transform(df_train1[x])\n",
        "df_train['day']=label_encoder.fit_transform(df_train['day'])\n",
        "df_test['day']=label_encoder.transform(df_test['day'])\n",
        "\n",
        "# проверяем значимость признаков\n",
        "imp_cat = pd.Series(mutual_info_classif(df_train1[bin_cols + kat_cols], df_train1['default'],\n",
        "                                     discrete_features =True), index = bin_cols + kat_cols)\n",
        "imp_cat.sort_values(inplace = True)\n",
        "imp_cat.plot(kind = 'barh')"
      ],
      "execution_count": 45,
      "outputs": [
        {
          "output_type": "execute_result",
          "data": {
            "text/plain": [
              "<matplotlib.axes._subplots.AxesSubplot at 0x7f1de023fa20>"
            ]
          },
          "metadata": {
            "tags": []
          },
          "execution_count": 45
        },
        {
          "output_type": "display_data",
          "data": {
            "image/png": "[encoded data removed]",
            "text/plain": [
              "<Figure size 432x288 with 1 Axes>"
            ]
          },
          "metadata": {
            "tags": [],
            "needs_background": "light"
          }
        }
      ]
    },
    {
      "cell_type": "code",
      "metadata": {
        "id": "tgbvU9nOtiZl",
        "colab_type": "code",
        "colab": {}
      },
      "source": [
        ""
      ],
      "execution_count": 45,
      "outputs": []
    },
    {
      "cell_type": "code",
      "metadata": {
        "id": "2Lw93RbfxTrm",
        "colab_type": "code",
        "colab": {}
      },
      "source": [
        "# Создаем дамми переменные\n",
        "coll1=['education','month','sna','first_time','region_rating','home_address']\n",
        "for col1 in coll1:\n",
        "  df1=pd.get_dummies(df_train[col1],prefix=col1)\n",
        "  df_train=pd.concat([df_train,df1],axis=1)\n",
        "  df_train.drop([col1],axis=1,inplace=True)\n",
        "  df2=pd.get_dummies(df_test[col1],prefix=col1)\n",
        "  df_test=pd.concat([df_test,df2],axis=1)\n",
        "  df_test.drop([col1],axis=1,inplace=True)  "
      ],
      "execution_count": 46,
      "outputs": []
    },
    {
      "cell_type": "markdown",
      "metadata": {
        "id": "yEtvwddBxTr0",
        "colab_type": "text"
      },
      "source": [
        "## Обучение модели "
      ]
    },
    {
      "cell_type": "code",
      "metadata": {
        "id": "Gp3jPUkQxTr1",
        "colab_type": "code",
        "colab": {}
      },
      "source": [
        "# Удалим малозначащие признаки и лишние признаки для дамми переменных\n",
        "Y = df_train['default']\n",
        "X = df_train.drop(['train','default','client_id','app_date','education_ACD','sna_4','first_time_3','region_rating_70',\n",
        "                   'home_address_2','foreign_passport'],axis=1)\n",
        "df_test.drop(['train','app_date','education_ACD','sna_4','first_time_3','region_rating_70','home_address_2',\n",
        "              'foreign_passport'],axis=1,inplace=True)\n"
      ],
      "execution_count": 47,
      "outputs": []
    },
    {
      "cell_type": "markdown",
      "metadata": {
        "id": "JdM3-JXvzu3a",
        "colab_type": "text"
      },
      "source": [
        ""
      ]
    },
    {
      "cell_type": "code",
      "metadata": {
        "id": "k4-_CiUnxTr8",
        "colab_type": "code",
        "colab": {}
      },
      "source": [
        "X_train, X_test, y_train, y_test = train_test_split(X, Y, test_size=0.20, random_state=42)"
      ],
      "execution_count": 48,
      "outputs": []
    },
    {
      "cell_type": "markdown",
      "metadata": {
        "id": "nUzyRKTB6m2I",
        "colab_type": "text"
      },
      "source": [
        "### Logistic Regression"
      ]
    },
    {
      "cell_type": "code",
      "metadata": {
        "id": "Dw1OvDuwxTsB",
        "colab_type": "code",
        "colab": {
          "base_uri": "https://localhost:8080/",
          "height": 102
        },
        "outputId": "8b50376c-507e-4105-ef09-0ca32eaf6773"
      },
      "source": [
        "model=LogisticRegression(C=1291,  penalty='l2',random_state=RANDOM_SEED)\n",
        "model.fit(X_train,y_train)\n"
      ],
      "execution_count": 49,
      "outputs": [
        {
          "output_type": "execute_result",
          "data": {
            "text/plain": [
              "LogisticRegression(C=1291, class_weight=None, dual=False, fit_intercept=True,\n",
              "                   intercept_scaling=1, l1_ratio=None, max_iter=100,\n",
              "                   multi_class='auto', n_jobs=None, penalty='l2',\n",
              "                   random_state=42, solver='lbfgs', tol=0.0001, verbose=0,\n",
              "                   warm_start=False)"
            ]
          },
          "metadata": {
            "tags": []
          },
          "execution_count": 49
        }
      ]
    },
    {
      "cell_type": "code",
      "metadata": {
        "id": "dglyxjAVxTsI",
        "colab_type": "code",
        "colab": {
          "base_uri": "https://localhost:8080/",
          "height": 295
        },
        "outputId": "535725a4-f631-42c8-c45d-260c58946cd6"
      },
      "source": [
        "probs = model.predict_proba(X_test)\n",
        "probs = probs[:,1]\n",
        "\n",
        "\n",
        "fpr, tpr, threshold = roc_curve(y_test, probs)\n",
        "roc_auc = roc_auc_score(y_test, probs)\n",
        "\n",
        "plt.figure()\n",
        "plt.plot([0, 1], label='Baseline', linestyle='--')\n",
        "plt.plot(fpr, tpr, label = 'Regression')\n",
        "plt.title('Logistic Regression ROC AUC = %0.4f' % roc_auc)\n",
        "plt.ylabel('True Positive Rate')\n",
        "plt.xlabel('False Positive Rate')\n",
        "plt.legend(loc = 'lower right')\n",
        "plt.show()\n",
        "#0.7437"
      ],
      "execution_count": 50,
      "outputs": [
        {
          "output_type": "display_data",
          "data": {
            "image/png": "[encoded data removed]",
            "text/plain": [
              "<Figure size 432x288 with 1 Axes>"
            ]
          },
          "metadata": {
            "tags": [],
            "needs_background": "light"
          }
        }
      ]
    },
    {
      "cell_type": "code",
      "metadata": {
        "id": "EN8qPqVbYMSx",
        "colab_type": "code",
        "colab": {
          "base_uri": "https://localhost:8080/",
          "height": 51
        },
        "outputId": "51f08d17-9c5d-4541-a6e8-ee0c7315c899"
      },
      "source": [
        "# рассчитаем метрики\n",
        "confusion_matrix(y_test,model.predict(X_test))"
      ],
      "execution_count": 51,
      "outputs": [
        {
          "output_type": "execute_result",
          "data": {
            "text/plain": [
              "array([[12867,    66],\n",
              "       [ 1783,    44]])"
            ]
          },
          "metadata": {
            "tags": []
          },
          "execution_count": 51
        }
      ]
    },
    {
      "cell_type": "code",
      "metadata": {
        "id": "5DeL_3CkxTsO",
        "colab_type": "code",
        "colab": {
          "base_uri": "https://localhost:8080/",
          "height": 51
        },
        "outputId": "787504ef-c2c5-4155-e6e9-347ab03ee394"
      },
      "source": [
        "# Добавим типы регуляризации\n",
        "penalty = ['l1', 'l2']\n",
        "\n",
        "# Зададим ограничения для параметра регуляризации\n",
        "C = np.logspace(0, 4, 10)\n",
        "\n",
        "# Создадим гиперпараметры\n",
        "hyperparameters = dict(C=C, penalty=penalty)\n",
        "\n",
        "model = LogisticRegression(random_state=RANDOM_SEED)\n",
        "model.fit(X_train, y_train)\n",
        "\n",
        "# Создаем сетку поиска с использованием 5-кратной перекрестной проверки\n",
        "clf = GridSearchCV(model, hyperparameters, cv=5, verbose=0,scoring='roc_auc')\n",
        "\n",
        "best_model = clf.fit(X_train, y_train)\n",
        "\n",
        "# View best hyperparameters\n",
        "print('Лучшее Penalty:', best_model.best_estimator_.get_params()['penalty'])\n",
        "print('Лучшее C:', best_model.best_estimator_.get_params()['C'])"
      ],
      "execution_count": 52,
      "outputs": [
        {
          "output_type": "stream",
          "text": [
            "Лучшее Penalty: l2\n",
            "Лучшее C: 1291.5496650148827\n"
          ],
          "name": "stdout"
        }
      ]
    },
    {
      "cell_type": "markdown",
      "metadata": {
        "id": "7ZBTzTWzxTsa",
        "colab_type": "text"
      },
      "source": [
        "## Предсказание на тестовой выборке "
      ]
    },
    {
      "cell_type": "code",
      "metadata": {
        "id": "OgL16tbwxTsb",
        "colab_type": "code",
        "colab": {}
      },
      "source": [
        "model = LogisticRegression(C=1291,                            \n",
        "                           penalty='l2',  \n",
        "                           random_state=RANDOM_SEED,\n",
        "                           max_iter=1000)\n",
        "\n",
        "model.fit(X_train, y_train)\n",
        "submit = pd.DataFrame(df_test.client_id)\n",
        "y_pred_prob = model.predict_proba(df_test.drop('client_id',axis=1))\n",
        "submit['default']=y_pred_prob[:,1]\n",
        "submit.to_csv('submission.csv', index=False)"
      ],
      "execution_count": 53,
      "outputs": []
    },
    {
      "cell_type": "markdown",
      "metadata": {
        "id": "7SLLJDngXz64",
        "colab_type": "text"
      },
      "source": [
        "Вывод: выборка не сбалансированная, классификатор очень точно предсказывает 0 класс, но неверно предсказывает 1 класс, ошибочно относя его к 0 классу. Удаление части тренировочной выборки, для баланса классов, не привели к удовлетворительному качеству, т.к. было удалено больше половины данных и их стало не достаточно, для хорошего обучения логистической регрессии."
      ]
    }
  ]
}